{
 "cells": [
  {
   "cell_type": "markdown",
   "id": "6cf1483f",
   "metadata": {},
   "source": [
    "# Video to Pictures\n",
    "\n",
    "Video file must be in a supported opencv format - AVI"
   ]
  },
  {
   "cell_type": "markdown",
   "id": "baece9d9",
   "metadata": {},
   "source": [
    "### Resources\n",
    "\n",
    "https://www.geeksforgeeks.org/extract-images-from-video-in-python/"
   ]
  },
  {
   "cell_type": "markdown",
   "id": "3c449bcb",
   "metadata": {},
   "source": [
    "### Required Dependencies \n",
    "pip install opencv-python"
   ]
  },
  {
   "cell_type": "markdown",
   "id": "194a46d1",
   "metadata": {},
   "source": [
    "## 1. Import Libraries"
   ]
  },
  {
   "cell_type": "code",
   "execution_count": null,
   "id": "e6b66b63",
   "metadata": {},
   "outputs": [],
   "source": [
    "#Library for working with videos/pictures\n",
    "import cv2\n",
    "#Library for interfacing with the Operating System\n",
    "import os\n",
    "#Library for generating unqiue names for the picture files\n",
    "import uuid"
   ]
  },
  {
   "cell_type": "markdown",
   "id": "54faf523",
   "metadata": {},
   "source": [
    "## 2. Set Input Video File "
   ]
  },
  {
   "cell_type": "code",
   "execution_count": null,
   "id": "2d0ff959",
   "metadata": {},
   "outputs": [],
   "source": [
    "#Set path and name of input video file \n",
    "filename = \"C:\\\\Users\\\\Richard\\\\Desktop\\\\Surfers.avi\"\n",
    "\n",
    "outputDir = os.path.splitext(filename)[0]\n",
    "outputName = os.path.basename(outputDir)"
   ]
  },
  {
   "cell_type": "markdown",
   "id": "c43c3a6a",
   "metadata": {},
   "source": [
    "## 3. Create Folder for Output Data"
   ]
  },
  {
   "cell_type": "code",
   "execution_count": null,
   "id": "acbe1032",
   "metadata": {},
   "outputs": [],
   "source": [
    "outputDir = outputDir + \"_Pictures\"\n",
    "\n",
    "try:\n",
    "      \n",
    "    if not os.path.exists(outputDir):\n",
    "        os.makedirs(outputDir)\n",
    "  \n",
    "except OSError:\n",
    "    print ('Error: Creating directory for Output Data')\n"
   ]
  },
  {
   "cell_type": "markdown",
   "id": "4d51acea",
   "metadata": {},
   "source": [
    "## 4. Set Number of Frames to Skip"
   ]
  },
  {
   "cell_type": "code",
   "execution_count": null,
   "id": "051ae16a",
   "metadata": {},
   "outputs": [],
   "source": [
    "#Set frameSkip higher for longer video lengths\n",
    "frameSkip = 20"
   ]
  },
  {
   "cell_type": "markdown",
   "id": "98a3e93e",
   "metadata": {},
   "source": [
    "## 5. Create Pictures for each Frame"
   ]
  },
  {
   "cell_type": "code",
   "execution_count": null,
   "id": "25072079",
   "metadata": {},
   "outputs": [],
   "source": [
    "currentframe = 0\n",
    "cam = cv2.VideoCapture(filename)\n",
    "\n",
    "while(True):\n",
    "      \n",
    "    # reading from frame\n",
    "    ret,frame = cam.read()\n",
    "    \n",
    "    if ret and currentframe % frameSkip == 0:\n",
    "        # if video is still left continue creating images\n",
    "        name = outputDir + '/' + outputName + '-' + str(uuid.uuid1()) + '.jpg'\n",
    "        print ('Creating...' + name)\n",
    "  \n",
    "        # writing the extracted images\n",
    "        cv2.imwrite(name, frame)\n",
    "  \n",
    "        # increasing counter so that it will\n",
    "        # show how many frames are created\n",
    "        currentframe += 1\n",
    "    elif not ret:\n",
    "        break\n",
    "    else:\n",
    "        currentframe += 1\n",
    "\n",
    "# Release all space and windows once done\n",
    "cam.release()\n",
    "cv2.destroyAllWindows()"
   ]
  },
  {
   "cell_type": "code",
   "execution_count": null,
   "id": "04cdb236",
   "metadata": {},
   "outputs": [],
   "source": []
  }
 ],
 "metadata": {
  "kernelspec": {
   "display_name": "Python 3",
   "language": "python",
   "name": "python3"
  },
  "language_info": {
   "codemirror_mode": {
    "name": "ipython",
    "version": 3
   },
   "file_extension": ".py",
   "mimetype": "text/x-python",
   "name": "python",
   "nbconvert_exporter": "python",
   "pygments_lexer": "ipython3",
   "version": "3.8.8"
  }
 },
 "nbformat": 4,
 "nbformat_minor": 5
}
