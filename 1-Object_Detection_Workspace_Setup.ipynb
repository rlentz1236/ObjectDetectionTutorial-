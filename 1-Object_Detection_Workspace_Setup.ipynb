{
 "cells": [
  {
   "cell_type": "markdown",
   "id": "fcc9dc97",
   "metadata": {},
   "source": [
    "# Object Detection Workspace Setup"
   ]
  },
  {
   "cell_type": "markdown",
   "id": "80ff59df",
   "metadata": {},
   "source": [
    "This script walks you through downloading and setting up the libraries needed to run a pre-trained object detection model.\n",
    "\n",
    "Make sure to set the PROJECT_NAME variable under section 1 to your desired workspace name and location\n",
    "\n",
    "Once the workspace has been setup you can use it to test different pre-trained models and train your own custom models"
   ]
  },
  {
   "cell_type": "markdown",
   "id": "017ae483",
   "metadata": {},
   "source": [
    "### Resources\n",
    "\n",
    "https://github.com/nicknochnack/TFODCourse <br>\n",
    "**Highly Recommend Watching the Tensorflow Object Detection Walkthrough Video**"
   ]
  },
  {
   "cell_type": "markdown",
   "id": "c0a4d50f",
   "metadata": {},
   "source": [
    "### Required Dependencies \n",
    "pip install --upgrade --user pip\n",
    "\n",
    "pip install --user wget opencv-python pyyaml protobuf matplotlib"
   ]
  },
  {
   "cell_type": "markdown",
   "id": "4a6be7f1",
   "metadata": {},
   "source": [
    "## 1. Import Libraries"
   ]
  },
  {
   "cell_type": "code",
   "execution_count": null,
   "id": "a8011ba7",
   "metadata": {},
   "outputs": [],
   "source": [
    "import os\n",
    "import wget"
   ]
  },
  {
   "cell_type": "markdown",
   "id": "2d5c0977",
   "metadata": {},
   "source": [
    "## 2. Pre-trained Model & Workspace Setup\n",
    "\n",
    "Tensorflow 2 Detection Model Zoo: https://github.com/tensorflow/models/blob/master/research/object_detection/g3doc/tf2_detection_zoo.md\n",
    "\n",
    "To copy a new model link go to the page above and right click any of the model names in the table, then select copy link address."
   ]
  },
  {
   "cell_type": "code",
   "execution_count": null,
   "id": "6ec84237",
   "metadata": {},
   "outputs": [],
   "source": [
    "#Copy link from Tensorflow 2 Destection Model Zoo \n",
    "PRETRAINED_MODEL_URL = 'http://download.tensorflow.org/models/object_detection/tf2/20200711/centernet_resnet50_v1_fpn_512x512_coco17_tpu-8.tar.gz'\n",
    "#Set to the name of the file downloaded by the link above - DO NOT INCLUDE the file extension\n",
    "PRETRAINED_MODEL_NAME = 'centernet_resnet50_v1_fpn_512x512_coco17_tpu-8'\n",
    "#Sets Label Category - Determined by training dataset\n",
    "LABEL_MAP_NAME = 'mscoco_label_map.pbtxt'\n",
    "#Set project location and directory name\n",
    "PROJECT_NAME = \"C:\\\\Users\\Richard\\\\Desktop\\\\ObjDetection_Workspace\\\\\"\n",
    "\n",
    "paths = {\n",
    "    'APIMODEL_PATH': os.path.join(PROJECT_NAME,'models'), \n",
    "    'PRETRAINED_MODEL_PATH': os.path.join(PROJECT_NAME, 'workspace','pre-trained-models'),\n",
    "    'SCRIPTS_PATH': os.path.join(PROJECT_NAME,'scripts'),\n",
    "    'PROTOC_PATH':os.path.join(PROJECT_NAME,'protoc'),\n",
    "    'CHECKPOINT_PATH': os.path.join(PROJECT_NAME, 'workspace','pre-trained-models',PRETRAINED_MODEL_NAME,'checkpoint')\n",
    " }\n",
    "\n",
    "files = {\n",
    "    'PIPELINE_CONFIG':os.path.join(PROJECT_NAME, 'workspace','pre-trained-models', PRETRAINED_MODEL_NAME, 'pipeline.config'),\n",
    "    'LABELMAP': os.path.join(PROJECT_NAME, 'models', 'research', 'object_detection', 'data', LABEL_MAP_NAME)\n",
    "}"
   ]
  },
  {
   "cell_type": "markdown",
   "id": "d87f54d4",
   "metadata": {},
   "source": [
    "## 3. Create Workspace Directories"
   ]
  },
  {
   "cell_type": "code",
   "execution_count": null,
   "id": "abc8ecbf",
   "metadata": {},
   "outputs": [],
   "source": [
    "for path in paths.values():\n",
    "    if not os.path.exists(path):\n",
    "        if os.name == 'posix':\n",
    "            !mkdir -p {path}\n",
    "        if os.name == 'nt':\n",
    "            !mkdir {path}"
   ]
  },
  {
   "cell_type": "markdown",
   "id": "dfb81fd8",
   "metadata": {},
   "source": [
    "## 4. Clone Tensorflow Object Detection Library from GitHub"
   ]
  },
  {
   "cell_type": "code",
   "execution_count": null,
   "id": "e9c3d088",
   "metadata": {},
   "outputs": [],
   "source": [
    "if not os.path.exists(os.path.join(paths['APIMODEL_PATH'], 'research', 'object_detection')):\n",
    "    #Install path PROJECT_NAME/models/\n",
    "    !git clone https://github.com/tensorflow/models {paths['APIMODEL_PATH']}\n",
    "else:\n",
    "    print(\"Tensorflow Object Detection Library Already Downloaded\")"
   ]
  },
  {
   "cell_type": "markdown",
   "id": "d9cbc72f",
   "metadata": {},
   "source": [
    "-------------------------------------------------------------------------------------------------------------------"
   ]
  },
  {
   "cell_type": "markdown",
   "id": "a0122e1a",
   "metadata": {},
   "source": [
    "## 5. Install Tensorflow Object Detection Library\n",
    "### RUN ONLY ONCE - Unless Error Occurs\n",
    "**Warnings are normal**\n",
    "\n",
    "**Ignore the Error Message** \"ERROR: pip's dependency resolver does not currently take into account all the packages that are installed. This behaviour is the source of the following dependency conflicts.\"\n",
    "\n",
    "**Install Location:** models/"
   ]
  },
  {
   "cell_type": "code",
   "execution_count": null,
   "id": "15bdc4ea",
   "metadata": {},
   "outputs": [],
   "source": [
    "# Install Tensorflow Object Detection \n",
    "if os.name=='posix':  \n",
    "    !apt-get install protobuf-compiler\n",
    "    !cd Tensorflow/models/research && protoc object_detection/protos/*.proto --python_out=. && cp object_detection/packages/tf2/setup.py . && python -m pip install . \n",
    "    \n",
    "if os.name=='nt':\n",
    "    url=\"https://github.com/protocolbuffers/protobuf/releases/download/v3.15.6/protoc-3.15.6-win64.zip\"\n",
    "    wget.download(url)\n",
    "    !move protoc-3.15.6-win64.zip {paths['PROTOC_PATH']}\n",
    "    !cd {paths['PROTOC_PATH']} && tar -xf protoc-3.15.6-win64.zip\n",
    "    os.environ['PATH'] += os.pathsep + os.path.abspath(os.path.join(paths['PROTOC_PATH'], 'bin'))\n",
    "    workspace = os.path.join(paths['APIMODEL_PATH'], 'research')\n",
    "    !cd {workspace} && protoc object_detection/protos/*.proto --python_out=. && copy object_detection\\\\packages\\\\tf2\\\\setup.py setup.py && python setup.py build && python setup.py install\n",
    "    !cd {os.path.join(workspace, 'slim')} && pip install -e . "
   ]
  },
  {
   "cell_type": "markdown",
   "id": "bc4e97b9",
   "metadata": {},
   "source": [
    "## 6. Install Tensorflow Library\n",
    "### RUN ONLY ONCE - Unless Error Occurs\n",
    "**Warnings are normal**\n",
    "\n",
    "**Ignore the Error Message** \"ERROR: pip's dependency resolver does not currently take into account all the packages that are installed. This behaviour is the source of the following dependency conflicts.\""
   ]
  },
  {
   "cell_type": "code",
   "execution_count": null,
   "id": "7500ffe6",
   "metadata": {},
   "outputs": [],
   "source": [
    "!pip install tensorflow --upgrade"
   ]
  },
  {
   "cell_type": "markdown",
   "id": "905c97f0",
   "metadata": {},
   "source": [
    "## 7. Verify Tensorflow Install\n",
    "### RUN ONLY ONCE - Unless Error Occurs\n",
    "**Warnings are normal**\n",
    "\n",
    "**Desired Output**\n",
    "\n",
    "Ran 24 tests in \n",
    "\n",
    "OK (skipped=1)"
   ]
  },
  {
   "cell_type": "code",
   "execution_count": null,
   "id": "f8192f56",
   "metadata": {},
   "outputs": [],
   "source": [
    "VERIFICATION_SCRIPT = os.path.join(paths['APIMODEL_PATH'], 'research', 'object_detection', 'builders', 'model_builder_tf2_test.py')\n",
    "# Verify Installation\n",
    "!python {VERIFICATION_SCRIPT}"
   ]
  },
  {
   "cell_type": "markdown",
   "id": "84f4430c",
   "metadata": {},
   "source": [
    "------------------------------------------------------------------------------------------"
   ]
  },
  {
   "cell_type": "markdown",
   "id": "03fe8847",
   "metadata": {},
   "source": [
    "## 8. Import Tensorflow Object Detection Library\n",
    "\n",
    "**Warning this will most likely fail if you just installed the libraries above.**\n",
    "\n",
    "**If it does restart the Kernel and rerun all cells excluding the RUN ONLY ONCE cells**\n",
    "\n",
    "Go to the top menu -> Kernel -> Restart"
   ]
  },
  {
   "cell_type": "code",
   "execution_count": null,
   "id": "2fd75f38",
   "metadata": {},
   "outputs": [],
   "source": [
    "import object_detection"
   ]
  },
  {
   "cell_type": "markdown",
   "id": "5b12aa1c",
   "metadata": {},
   "source": [
    "## 9. Download Pre-trained Model\n",
    "**Checks to see if it exist already before downloading**\n",
    "\n",
    "**Download Location:** workspace/pretrained-models/"
   ]
  },
  {
   "cell_type": "code",
   "execution_count": null,
   "id": "b25392b0",
   "metadata": {},
   "outputs": [],
   "source": [
    "if not os.path.exists(os.path.join(paths['PRETRAINED_MODEL_PATH'], PRETRAINED_MODEL_NAME, 'saved_model')):\n",
    "    if os.name =='posix':\n",
    "        !wget {PRETRAINED_MODEL_URL}\n",
    "        !mv {PRETRAINED_MODEL_NAME+'.tar.gz'} {paths['PRETRAINED_MODEL_PATH']}\n",
    "        !cd {paths['PRETRAINED_MODEL_PATH']} && tar -zxvf {PRETRAINED_MODEL_NAME+'.tar.gz'}\n",
    "    if os.name == 'nt':\n",
    "        wget.download(PRETRAINED_MODEL_URL)\n",
    "        !move {PRETRAINED_MODEL_NAME+'.tar.gz'} {paths['PRETRAINED_MODEL_PATH']}\n",
    "        !cd {paths['PRETRAINED_MODEL_PATH']} && tar -zxvf {PRETRAINED_MODEL_NAME+'.tar.gz'}\n",
    "else:\n",
    "    print(\"Model Already Downloaded.\")"
   ]
  },
  {
   "cell_type": "markdown",
   "id": "c009c3c1",
   "metadata": {},
   "source": [
    "## 10. Import Libraries Needed to Run Pre-Trained Model"
   ]
  },
  {
   "cell_type": "code",
   "execution_count": null,
   "id": "bf50cbe2",
   "metadata": {},
   "outputs": [],
   "source": [
    "import os\n",
    "import tensorflow as tf\n",
    "from object_detection.utils import label_map_util\n",
    "from object_detection.utils import visualization_utils as viz_utils\n",
    "from object_detection.builders import model_builder\n",
    "from object_detection.utils import config_util\n",
    "import cv2 \n",
    "import numpy as np\n",
    "from matplotlib import pyplot as plt\n",
    "%matplotlib inline"
   ]
  },
  {
   "cell_type": "markdown",
   "id": "cd9524dd",
   "metadata": {},
   "source": [
    "## 11. Set Pipeline Config & Create Model from Saved Checkpoint"
   ]
  },
  {
   "cell_type": "code",
   "execution_count": null,
   "id": "b085d4fb",
   "metadata": {},
   "outputs": [],
   "source": [
    "#Set checkpoint file to load\n",
    "checkpoint = 'ckpt-0'\n",
    "\n",
    "# Load pipeline config and build a detection model\n",
    "configs = config_util.get_configs_from_pipeline_file(files['PIPELINE_CONFIG'])\n",
    "detection_model = model_builder.build(model_config=configs['model'], is_training=False)\n",
    "\n",
    "# Restore checkpoint\n",
    "ckpt = tf.compat.v2.train.Checkpoint(model=detection_model)\n",
    "ckpt.restore(os.path.join(paths['CHECKPOINT_PATH'], checkpoint)).expect_partial()\n",
    "\n",
    "#Function used to predict objects in given image\n",
    "@tf.function\n",
    "def detect_fn(image):\n",
    "    image, shapes = detection_model.preprocess(image)\n",
    "    prediction_dict = detection_model.predict(image, shapes)\n",
    "    detections = detection_model.postprocess(prediction_dict, shapes)\n",
    "    return detections"
   ]
  },
  {
   "cell_type": "markdown",
   "id": "2ebf9579",
   "metadata": {},
   "source": [
    "## 12. Set Objects to Detect & Image to Detect them on"
   ]
  },
  {
   "cell_type": "code",
   "execution_count": null,
   "id": "3dd3f79d",
   "metadata": {},
   "outputs": [],
   "source": [
    "#Sets the pbtxt file to use - specified by LABEL_MAP_NAME variable \n",
    "category_index = label_map_util.create_category_index_from_labelmap(files['LABELMAP'])\n",
    "\n",
    "#Sets image to do object prediction on \n",
    "IMAGE_PATH = (\"C:\\\\Users\\Richard\\\\Desktop\\\\thumbsup.cd56334e-ff92-11ec-9566-84144db13b80.jpg\")"
   ]
  },
  {
   "cell_type": "markdown",
   "id": "48800990",
   "metadata": {},
   "source": [
    "## 13. Run Object Detection for Given Image"
   ]
  },
  {
   "cell_type": "code",
   "execution_count": null,
   "id": "1122cc2d",
   "metadata": {},
   "outputs": [],
   "source": [
    "img = cv2.imread(IMAGE_PATH)\n",
    "image_np = np.array(img)\n",
    "\n",
    "input_tensor = tf.convert_to_tensor(np.expand_dims(image_np, 0), dtype=tf.float32)\n",
    "detections = detect_fn(input_tensor)\n",
    "\n",
    "num_detections = int(detections.pop('num_detections'))\n",
    "detections = {key: value[0, :num_detections].numpy()\n",
    "              for key, value in detections.items()}\n",
    "detections['num_detections'] = num_detections\n",
    "\n",
    "# detection_classes should be ints.\n",
    "detections['detection_classes'] = detections['detection_classes'].astype(np.int64)\n",
    "\n",
    "label_id_offset = 1\n",
    "image_np_with_detections = image_np.copy()\n",
    "\n",
    "viz_utils.visualize_boxes_and_labels_on_image_array(\n",
    "            image_np_with_detections,\n",
    "            detections['detection_boxes'],\n",
    "            detections['detection_classes']+label_id_offset,\n",
    "            detections['detection_scores'],\n",
    "            category_index,\n",
    "            use_normalized_coordinates=True,\n",
    "            max_boxes_to_draw=5,\n",
    "            min_score_thresh=.8,\n",
    "            agnostic_mode=False)\n",
    "\n",
    "plt.imshow(cv2.cvtColor(image_np_with_detections, cv2.COLOR_BGR2RGB))\n",
    "plt.show()"
   ]
  },
  {
   "cell_type": "markdown",
   "id": "1b70df7b",
   "metadata": {},
   "source": [
    "## 14. Run Object Detection for given Camera"
   ]
  },
  {
   "cell_type": "code",
   "execution_count": null,
   "id": "7d7f21b9",
   "metadata": {},
   "outputs": [],
   "source": [
    "#Depending on the computer and OS 0 may not be the correct value\n",
    "camera = 0\n",
    "\n",
    "cap = cv2.VideoCapture(camera)\n",
    "width = int(cap.get(cv2.CAP_PROP_FRAME_WIDTH))\n",
    "height = int(cap.get(cv2.CAP_PROP_FRAME_HEIGHT))\n",
    "\n",
    "while cap.isOpened(): \n",
    "    ret, frame = cap.read()\n",
    "    image_np = np.array(frame)\n",
    "    \n",
    "    input_tensor = tf.convert_to_tensor(np.expand_dims(image_np, 0), dtype=tf.float32)\n",
    "    detections = detect_fn(input_tensor)\n",
    "    \n",
    "    num_detections = int(detections.pop('num_detections'))\n",
    "    detections = {key: value[0, :num_detections].numpy()\n",
    "                  for key, value in detections.items()}\n",
    "    detections['num_detections'] = num_detections\n",
    "\n",
    "    # detection_classes should be ints.\n",
    "    detections['detection_classes'] = detections['detection_classes'].astype(np.int64)\n",
    "\n",
    "    label_id_offset = 1\n",
    "    image_np_with_detections = image_np.copy()\n",
    "\n",
    "    viz_utils.visualize_boxes_and_labels_on_image_array(\n",
    "                image_np_with_detections,\n",
    "                detections['detection_boxes'],\n",
    "                detections['detection_classes']+label_id_offset,\n",
    "                detections['detection_scores'],\n",
    "                category_index,\n",
    "                use_normalized_coordinates=True,\n",
    "                max_boxes_to_draw=5,\n",
    "                min_score_thresh=.8,\n",
    "                agnostic_mode=False)\n",
    "\n",
    "    cv2.imshow('object detection',  cv2.resize(image_np_with_detections, (800, 600)))\n",
    "    \n",
    "    if cv2.waitKey(10) & 0xFF == ord('q'):\n",
    "        cap.release()\n",
    "        cv2.destroyAllWindows()\n",
    "        break"
   ]
  },
  {
   "cell_type": "code",
   "execution_count": null,
   "id": "ef16d917",
   "metadata": {},
   "outputs": [],
   "source": []
  }
 ],
 "metadata": {
  "kernelspec": {
   "display_name": "Python 3",
   "language": "python",
   "name": "python3"
  },
  "language_info": {
   "codemirror_mode": {
    "name": "ipython",
    "version": 3
   },
   "file_extension": ".py",
   "mimetype": "text/x-python",
   "name": "python",
   "nbconvert_exporter": "python",
   "pygments_lexer": "ipython3",
   "version": "3.8.8"
  }
 },
 "nbformat": 4,
 "nbformat_minor": 5
}
