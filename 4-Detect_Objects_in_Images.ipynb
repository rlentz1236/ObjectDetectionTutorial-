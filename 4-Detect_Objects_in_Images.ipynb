{
 "cells": [
  {
   "cell_type": "markdown",
   "id": "50cb0f37",
   "metadata": {},
   "source": [
    "# Detect Objects in Images\n",
    "\n",
    "**Warning:** This notebook assumes that you have run the Object Detection Workspace Setup notebook and have a configured workspace"
   ]
  },
  {
   "cell_type": "markdown",
   "id": "aac5214b",
   "metadata": {},
   "source": [
    "### Resources\n",
    "\n",
    "https://github.com/nicknochnack/TFODCourse <br>\n",
    "**Highly Recommend Watching the Tensorflow Object Detection Walkthrough Video**"
   ]
  },
  {
   "cell_type": "markdown",
   "id": "8fadd063",
   "metadata": {},
   "source": [
    "## 1. Import Libraries"
   ]
  },
  {
   "cell_type": "code",
   "execution_count": null,
   "id": "9df5680f",
   "metadata": {},
   "outputs": [],
   "source": [
    "import os"
   ]
  },
  {
   "cell_type": "markdown",
   "id": "05399884",
   "metadata": {},
   "source": [
    "## 2. Setup Workspace Paths & Specify Model to use"
   ]
  },
  {
   "cell_type": "code",
   "execution_count": null,
   "id": "75860dc1",
   "metadata": {},
   "outputs": [],
   "source": [
    "#Set true if using a custom model\n",
    "MODEL_TYPE = False\n",
    "#Set to the name of the custom model folder or pre-trained model folder\n",
    "MODEL_NAME = 'centernet_resnet50_v1_fpn_512x512_coco17_tpu-8'\n",
    "#Sets Label Category - Determined by training dataset\n",
    "LABEL_MAP_NAME = 'mscoco_label_map.pbtxt'\n",
    "#Set project location and directory name\n",
    "PROJECT_NAME = \"C:\\\\Users\\Richard\\\\Desktop\\\\TensorflowTest2\\\\\"\n",
    "\n",
    "\n",
    "if MODEL_TYPE:\n",
    "    \n",
    "    paths = {\n",
    "        'MODEL_PATH': os.path.join(PROJECT_NAME, 'workspace','custom_models'),\n",
    "        'CHECKPOINT_PATH': os.path.join(PROJECT_NAME, 'workspace','custom_models',MODEL_NAME,'final_model','checkpoint')\n",
    "    }\n",
    "    \n",
    "    files = {\n",
    "        'PIPELINE_CONFIG':os.path.join(PROJECT_NAME, 'workspace','custom_models', MODEL_NAME,'final_model','pipeline.config'),\n",
    "        'LABELMAP': os.path.join(paths['MODEL_PATH'], 'label_map', LABEL_MAP_NAME)\n",
    "    }\n",
    "    \n",
    "else:\n",
    "    \n",
    "    paths = {\n",
    "        'MODEL_PATH': os.path.join(PROJECT_NAME, 'workspace','pre-trained-models'),\n",
    "        'CHECKPOINT_PATH': os.path.join(PROJECT_NAME, 'workspace','pre-trained-models',MODEL_NAME,'checkpoint')\n",
    "    }\n",
    "\n",
    "    files = {\n",
    "        'PIPELINE_CONFIG':os.path.join(PROJECT_NAME, 'workspace','pre-trained-models', MODEL_NAME, 'pipeline.config'),\n",
    "        'LABELMAP': os.path.join(PROJECT_NAME, 'models', 'research', 'object_detection', 'data', 'mscoco_label_map.pbtxt')\n",
    "    }"
   ]
  },
  {
   "cell_type": "markdown",
   "id": "e84f6eb1",
   "metadata": {},
   "source": [
    "## 3. Import Libraries Needed to Run Model"
   ]
  },
  {
   "cell_type": "code",
   "execution_count": null,
   "id": "61358a68",
   "metadata": {},
   "outputs": [],
   "source": [
    "import os\n",
    "import tensorflow as tf\n",
    "from object_detection.utils import label_map_util\n",
    "from object_detection.utils import visualization_utils as viz_utils\n",
    "from object_detection.builders import model_builder\n",
    "from object_detection.utils import config_util\n",
    "import cv2 \n",
    "import glob\n",
    "import numpy as np\n",
    "from matplotlib import pyplot as plt\n",
    "%matplotlib inline"
   ]
  },
  {
   "cell_type": "markdown",
   "id": "7d36186f",
   "metadata": {},
   "source": [
    "## 4. Set Pipeline Config & Create Model from Saved Checkpoint"
   ]
  },
  {
   "cell_type": "code",
   "execution_count": null,
   "id": "d7d6be72",
   "metadata": {},
   "outputs": [],
   "source": [
    "#Set checkpoint file to load\n",
    "checkpoint = 'ckpt-0'\n",
    "\n",
    "# Load pipeline config and build a detection model\n",
    "configs = config_util.get_configs_from_pipeline_file(files['PIPELINE_CONFIG'])\n",
    "detection_model = model_builder.build(model_config=configs['model'], is_training=False)\n",
    "\n",
    "# Restore checkpoint\n",
    "ckpt = tf.compat.v2.train.Checkpoint(model=detection_model)\n",
    "ckpt.restore(os.path.join(paths['CHECKPOINT_PATH'], checkpoint)).expect_partial()\n",
    "\n",
    "#Sets the pbtxt file to use - specified by LABEL_MAP_NAME variable \n",
    "category_index = label_map_util.create_category_index_from_labelmap(files['LABELMAP'])\n",
    "\n",
    "@tf.function\n",
    "def detect_fn(image):\n",
    "    image, shapes = detection_model.preprocess(image)\n",
    "    prediction_dict = detection_model.predict(image, shapes)\n",
    "    detections = detection_model.postprocess(prediction_dict, shapes)\n",
    "    return detections"
   ]
  },
  {
   "cell_type": "markdown",
   "id": "70d9f85e",
   "metadata": {},
   "source": [
    "## 5. Specify Directory with Images for Object Detection"
   ]
  },
  {
   "cell_type": "code",
   "execution_count": null,
   "id": "a4763c01",
   "metadata": {},
   "outputs": [],
   "source": [
    "#Set path to images for object detection\n",
    "IMAGES_PATH = \"C:\\\\Users\\\\Richard\\\\Desktop\\\\TensorflowTest2\\\\workspace\\\\images\\\\train\"\n",
    "#Set image file type\n",
    "IMAGE_TYPE = \".jpg\"\n",
    "\n",
    "IMAGES = glob.glob(os.path.join(IMAGES_PATH, '*' + IMAGE_TYPE))\n",
    "\n",
    "#Sets image to do object detection on\n",
    "IMAGE_PATH = (\"C:\\\\Users\\Richard\\\\Desktop\\\\thumbsup.cd56334e-ff92-11ec-9566-84144db13b80.jpg\")"
   ]
  },
  {
   "cell_type": "markdown",
   "id": "c64b481b",
   "metadata": {},
   "source": [
    "## 6. Create Method that Performs Object Detection on one Image"
   ]
  },
  {
   "cell_type": "code",
   "execution_count": null,
   "id": "844218fa",
   "metadata": {},
   "outputs": [],
   "source": [
    "def detect_obj(image_path):\n",
    "    img = cv2.imread(image_path)\n",
    "    image_np = np.array(img)\n",
    "\n",
    "    input_tensor = tf.convert_to_tensor(np.expand_dims(image_np, 0), dtype=tf.float32)\n",
    "    detections = detect_fn(input_tensor)\n",
    "\n",
    "    num_detections = int(detections.pop('num_detections'))\n",
    "    detections = {key: value[0, :num_detections].numpy()\n",
    "                  for key, value in detections.items()}\n",
    "    detections['num_detections'] = num_detections\n",
    "\n",
    "    # detection_classes should be ints.\n",
    "    detections['detection_classes'] = detections['detection_classes'].astype(np.int64)\n",
    "\n",
    "    label_id_offset = 1\n",
    "    image_np_with_detections = image_np.copy()\n",
    "\n",
    "    viz_utils.visualize_boxes_and_labels_on_image_array(\n",
    "                image_np_with_detections,\n",
    "                detections['detection_boxes'],\n",
    "                detections['detection_classes']+label_id_offset,\n",
    "                detections['detection_scores'],\n",
    "                category_index,\n",
    "                use_normalized_coordinates=True,\n",
    "                max_boxes_to_draw=5,\n",
    "                min_score_thresh=.8,\n",
    "                agnostic_mode=False)\n",
    "\n",
    "    plt.imshow(cv2.cvtColor(image_np_with_detections, cv2.COLOR_BGR2RGB))\n",
    "    plt.show()"
   ]
  },
  {
   "cell_type": "markdown",
   "id": "eb1683e8",
   "metadata": {},
   "source": [
    "## 7. Call Method for each Image in Specified Directory"
   ]
  },
  {
   "cell_type": "code",
   "execution_count": null,
   "id": "cc0c43e7",
   "metadata": {},
   "outputs": [],
   "source": [
    "for image_path in IMAGES:\n",
    "    detect_obj(image_path)"
   ]
  },
  {
   "cell_type": "code",
   "execution_count": null,
   "id": "2038fef4",
   "metadata": {},
   "outputs": [],
   "source": []
  }
 ],
 "metadata": {
  "kernelspec": {
   "display_name": "Python 3",
   "language": "python",
   "name": "python3"
  },
  "language_info": {
   "codemirror_mode": {
    "name": "ipython",
    "version": 3
   },
   "file_extension": ".py",
   "mimetype": "text/x-python",
   "name": "python",
   "nbconvert_exporter": "python",
   "pygments_lexer": "ipython3",
   "version": "3.8.8"
  }
 },
 "nbformat": 4,
 "nbformat_minor": 5
}
