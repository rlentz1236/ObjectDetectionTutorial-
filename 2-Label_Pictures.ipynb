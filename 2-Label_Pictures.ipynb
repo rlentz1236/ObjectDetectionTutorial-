{
 "cells": [
  {
   "cell_type": "markdown",
   "id": "127c246f",
   "metadata": {},
   "source": [
    "# Label Pictures"
   ]
  },
  {
   "cell_type": "markdown",
   "id": "e9e66a7a",
   "metadata": {},
   "source": [
    "This script downloads and sets up the program LabelImg developed by tzutalin GitHub: https://github.com/tzutalin"
   ]
  },
  {
   "cell_type": "markdown",
   "id": "2e59c67b",
   "metadata": {},
   "source": [
    "### Required Dependencies \n",
    "pip install --upgrade pyqt5 lxml"
   ]
  },
  {
   "cell_type": "markdown",
   "id": "6f542dd1",
   "metadata": {},
   "source": [
    "## 1. Import Libraries"
   ]
  },
  {
   "cell_type": "code",
   "execution_count": null,
   "id": "f8d11050",
   "metadata": {},
   "outputs": [],
   "source": [
    "#Library for interfacing with the Operating System\n",
    "import os "
   ]
  },
  {
   "cell_type": "markdown",
   "id": "9cb9a7d5",
   "metadata": {},
   "source": [
    "## 2. Set Install Path for LabelImg Program"
   ]
  },
  {
   "cell_type": "code",
   "execution_count": null,
   "id": "b536dd33",
   "metadata": {},
   "outputs": [],
   "source": [
    "#Set install directory for LabelImg Program \n",
    "LABELIMG_PATH = \"C:\\\\Users\\\\Richard\\\\Desktop\""
   ]
  },
  {
   "cell_type": "markdown",
   "id": "22f901a9",
   "metadata": {},
   "source": [
    "## 3. Create Folder for LabelImg Program"
   ]
  },
  {
   "cell_type": "code",
   "execution_count": null,
   "id": "38824f98",
   "metadata": {},
   "outputs": [],
   "source": [
    "LABELIMG_PATH = os.path.join(LABELIMG_PATH, 'LabelImg')\n",
    "\n",
    "try:\n",
    "      \n",
    "    if not os.path.exists(LABELIMG_PATH):\n",
    "        os.makedirs(LABELIMG_PATH)\n",
    "  \n",
    "except OSError:\n",
    "    print ('Error: Creating directory for Output Data')"
   ]
  },
  {
   "cell_type": "markdown",
   "id": "5b6df7b2",
   "metadata": {},
   "source": [
    "## 4. Download LabelImg Program from GitHub"
   ]
  },
  {
   "cell_type": "code",
   "execution_count": null,
   "id": "fc30bd3b",
   "metadata": {},
   "outputs": [],
   "source": [
    "if os.path.exists(LABELIMG_PATH) and not os.path.exists(os.path.join(LABELIMG_PATH, 'data')):\n",
    "    !git clone https://github.com/tzutalin/labelImg {LABELIMG_PATH}\n",
    "else:\n",
    "    print(\"LabelImg Already Downloaded.\")"
   ]
  },
  {
   "cell_type": "markdown",
   "id": "fb406d18",
   "metadata": {},
   "source": [
    "## 5. Setup Resource Libraries Required to run LabelImg"
   ]
  },
  {
   "cell_type": "code",
   "execution_count": null,
   "id": "79abe96d",
   "metadata": {},
   "outputs": [],
   "source": [
    "if os.name == 'posix':\n",
    "    !make qt5py3\n",
    "if os.name =='nt':\n",
    "    !cd {LABELIMG_PATH} && pyrcc5 -o libs/resources.py resources.qrc"
   ]
  },
  {
   "cell_type": "markdown",
   "id": "377ee8e4",
   "metadata": {},
   "source": [
    "## 6. Run LabelImg"
   ]
  },
  {
   "cell_type": "code",
   "execution_count": null,
   "id": "1f43817a",
   "metadata": {},
   "outputs": [],
   "source": [
    "!cd {LABELIMG_PATH} && python labelImg.py"
   ]
  },
  {
   "cell_type": "markdown",
   "id": "09b24c1b",
   "metadata": {},
   "source": [
    "### Tips:\n",
    "The block above will continue to run until the LabelImg program window is closed.\n",
    "Make sure to save the xml file after drawing the annotations and that the xml file is saved in the same foler as the image\n",
    "\n",
    "### ImageImg Keyboard Shortcuts:\n",
    "w      : Create annotation box \n",
    "\n",
    "space  : Pan image \n",
    "\n",
    "ctrl+s : Save annotation xml file "
   ]
  },
  {
   "cell_type": "code",
   "execution_count": null,
   "id": "7bdfbe26",
   "metadata": {},
   "outputs": [],
   "source": []
  }
 ],
 "metadata": {
  "kernelspec": {
   "display_name": "Python 3",
   "language": "python",
   "name": "python3"
  },
  "language_info": {
   "codemirror_mode": {
    "name": "ipython",
    "version": 3
   },
   "file_extension": ".py",
   "mimetype": "text/x-python",
   "name": "python",
   "nbconvert_exporter": "python",
   "pygments_lexer": "ipython3",
   "version": "3.8.8"
  }
 },
 "nbformat": 4,
 "nbformat_minor": 5
}
